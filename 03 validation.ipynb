{
 "cells": [
  {
   "cell_type": "markdown",
   "metadata": {},
   "source": [
    "# Validation of Trained Models"
   ]
  },
  {
   "cell_type": "code",
   "execution_count": 1,
   "metadata": {},
   "outputs": [
    {
     "name": "stdout",
     "output_type": "stream",
     "text": [
      "Using device: cuda\n",
      "Using GPU: NVIDIA A100-SXM4-40GB\n"
     ]
    }
   ],
   "source": [
    "import os\n",
    "import torch\n",
    "\n",
    "# Set-up CUDA device\n",
    "os.environ[\"CUDA_DEVICE_ORDER\"]=\"PCI_BUS_ID\" \n",
    "# use a specific GPU\n",
    "os.environ[\"CUDA_VISIBLE_DEVICES\"]=\"4\"\n",
    "\n",
    "# Use GPU for inference\n",
    "device = torch.device(\"cuda\" if torch.cuda.is_available() else \"cpu\")\n",
    "\n",
    "# Print the device being used\n",
    "print(f\"Using device: {device}\")\n",
    "\n",
    "# Check the GPU name\n",
    "if device.type == 'cuda':\n",
    "    gpu_name = torch.cuda.get_device_name(0)  # 0 because CUDA_VISIBLE_DEVICES=4 means GPU 4 is now 0\n",
    "    print(\"Using GPU:\", gpu_name)"
   ]
  },
  {
   "cell_type": "code",
   "execution_count": null,
   "metadata": {},
   "outputs": [],
   "source": [
    "# COMPILE MODEL WEIGHTS IN ONE DIRECTORY\n",
    "# import os\n",
    "# import shutil\n",
    "\n",
    "\n",
    "# # List of general folders\n",
    "# folder_paths = [\"YOLO11-freeze-all\", \"YOLO11-freeze-backbone\", \"YOLO11-full\"]\n",
    "# destination_dir = \"best_weights\"\n",
    "\n",
    "# # List to store paths to the weights\n",
    "# weights_paths = []\n",
    "\n",
    "# # Iterate through each folder\n",
    "# for folder_path in folder_paths:\n",
    "#     # Recursively find the target file\n",
    "#     for root, dirs, files in os.walk(folder_path):\n",
    "#         if \"best.pt\" in files:\n",
    "#             folder_name = folder_path.replace(\"YOLO11-\", \"-\")\n",
    "#             new_name = os.path.basename(os.path.dirname(root)).replace(\"-train\", \"\") + folder_name  + \".pt\"\n",
    "\n",
    "#             source_file = os.path.join(root, \"best.pt\")\n",
    "#             destination_file = os.path.join(destination_dir, new_name)\n",
    "\n",
    "#             shutil.copy(source_file, destination_file)"
   ]
  },
  {
   "cell_type": "code",
   "execution_count": 21,
   "metadata": {},
   "outputs": [
    {
     "name": "stdout",
     "output_type": "stream",
     "text": [
      "best_weights/yolo11m-seg-freeze-all.pt\n",
      "best_weights/yolo11m-freeze-backbone.pt\n",
      "best_weights/yolo11s-seg-full.pt\n",
      "best_weights/yolo11s-seg-freeze-all.pt\n",
      "best_weights/yolo11m-full.pt\n",
      "best_weights/yolo11s-freeze-backbone.pt\n",
      "best_weights/yolo11l-seg-freeze-all.pt\n",
      "best_weights/yolo11m-freeze-all.pt\n",
      "best_weights/yolo11n-seg-freeze-backbone.pt\n",
      "best_weights/yolo11s-freeze-all.pt\n",
      "best_weights/yolo11l-seg-freeze-backbone.pt\n",
      "best_weights/yolo11n-full.pt\n",
      "best_weights/yolo11n-seg-full.pt\n",
      "best_weights/yolo11s-seg-freeze-backbone.pt\n",
      "best_weights/yolo11n-freeze-all.pt\n",
      "best_weights/yolo11l-full.pt\n",
      "best_weights/yolo11n-seg-freeze-all.pt\n",
      "best_weights/yolo11s-full.pt\n",
      "best_weights/yolo11l-freeze-all.pt\n",
      "best_weights/yolo11m-seg-full.pt\n",
      "best_weights/yolo11m-seg-freeze-backbone.pt\n",
      "best_weights/yolo11l-freeze-backbone.pt\n",
      "best_weights/yolo11l-seg-full.pt\n",
      "best_weights/yolo11n-freeze-backbone.pt\n"
     ]
    }
   ],
   "source": [
    "import os\n",
    "\n",
    "# List of general folders\n",
    "folder_path = \"best_weights\"\n",
    "\n",
    "# Get all weights in folder_path\n",
    "weights_paths = os.listdir(folder_path)\n",
    "weights_paths = [folder_path + '/' + path for path in weights_paths]\n",
    "\n",
    "for path in weights_paths:\n",
    "    print(path)"
   ]
  },
  {
   "cell_type": "markdown",
   "metadata": {},
   "source": [
    "## Evaluate Models"
   ]
  },
  {
   "cell_type": "code",
   "execution_count": 22,
   "metadata": {},
   "outputs": [
    {
     "name": "stdout",
     "output_type": "stream",
     "text": [
      "YOLO11m-seg summary (fused): 330 layers, 22,353,816 parameters, 0 gradients, 123.1 GFLOPs\n"
     ]
    },
    {
     "name": "stderr",
     "output_type": "stream",
     "text": [
      "\u001b[34m\u001b[1mval: \u001b[0mScanning /raid/students/ryan/ME5/datasets/grocery/labels/val.cache... 1119 images, 0 backgrounds, 0 corrupt: 100%|██████████| 1119/1119 [00:00<?, ?it/s]\n",
      "                 Class     Images  Instances      Box(P          R      mAP50  mAP50-95)     Mask(P          R      mAP50  mAP50-95): 100%|██████████| 70/70 [00:21<00:00,  3.20it/s]\n"
     ]
    },
    {
     "name": "stdout",
     "output_type": "stream",
     "text": [
      "                   all       1119       2301      0.837      0.738      0.827      0.692       0.83      0.732      0.815      0.664\n",
      "Speed: 0.2ms preprocess, 2.6ms inference, 0.0ms loss, 0.6ms postprocess per image\n",
      "Results saved to \u001b[1mruns/segment/val42\u001b[0m\n",
      "YOLO11m summary (fused): 303 layers, 20,048,536 parameters, 0 gradients, 67.7 GFLOPs\n"
     ]
    },
    {
     "name": "stderr",
     "output_type": "stream",
     "text": [
      "\u001b[34m\u001b[1mval: \u001b[0mScanning /raid/students/ryan/ME5/datasets/grocery/labels/val.cache... 1119 images, 0 backgrounds, 0 corrupt: 100%|██████████| 1119/1119 [00:00<?, ?it/s]\n",
      "                 Class     Images  Instances      Box(P          R      mAP50  mAP50-95): 100%|██████████| 70/70 [00:06<00:00, 11.36it/s]\n"
     ]
    },
    {
     "name": "stdout",
     "output_type": "stream",
     "text": [
      "                   all       1119       2301      0.954      0.936      0.965      0.888\n",
      "Speed: 0.1ms preprocess, 2.1ms inference, 0.0ms loss, 0.8ms postprocess per image\n",
      "Results saved to \u001b[1mruns/detect/val26\u001b[0m\n",
      "YOLO11s-seg summary (fused): 265 layers, 10,076,104 parameters, 0 gradients, 35.4 GFLOPs\n"
     ]
    },
    {
     "name": "stderr",
     "output_type": "stream",
     "text": [
      "\u001b[34m\u001b[1mval: \u001b[0mScanning /raid/students/ryan/ME5/datasets/grocery/labels/val.cache... 1119 images, 0 backgrounds, 0 corrupt: 100%|██████████| 1119/1119 [00:00<?, ?it/s]\n",
      "                 Class     Images  Instances      Box(P          R      mAP50  mAP50-95)     Mask(P          R      mAP50  mAP50-95): 100%|██████████| 70/70 [00:12<00:00,  5.72it/s]\n"
     ]
    },
    {
     "name": "stdout",
     "output_type": "stream",
     "text": [
      "                   all       1119       2301      0.952      0.946       0.97       0.89      0.947      0.946      0.963      0.848\n",
      "Speed: 0.1ms preprocess, 1.5ms inference, 0.0ms loss, 0.6ms postprocess per image\n",
      "Results saved to \u001b[1mruns/segment/val43\u001b[0m\n",
      "YOLO11s-seg summary (fused): 265 layers, 10,076,104 parameters, 0 gradients, 35.4 GFLOPs\n"
     ]
    },
    {
     "name": "stderr",
     "output_type": "stream",
     "text": [
      "\u001b[34m\u001b[1mval: \u001b[0mScanning /raid/students/ryan/ME5/datasets/grocery/labels/val.cache... 1119 images, 0 backgrounds, 0 corrupt: 100%|██████████| 1119/1119 [00:00<?, ?it/s]\n",
      "                 Class     Images  Instances      Box(P          R      mAP50  mAP50-95)     Mask(P          R      mAP50  mAP50-95): 100%|██████████| 70/70 [00:07<00:00,  9.57it/s]\n"
     ]
    },
    {
     "name": "stdout",
     "output_type": "stream",
     "text": [
      "                   all       1119       2301      0.794      0.662      0.756      0.617      0.789      0.654      0.742      0.582\n",
      "Speed: 0.1ms preprocess, 1.3ms inference, 0.0ms loss, 0.6ms postprocess per image\n",
      "Results saved to \u001b[1mruns/segment/val44\u001b[0m\n",
      "YOLO11m summary (fused): 303 layers, 20,048,536 parameters, 0 gradients, 67.7 GFLOPs\n"
     ]
    },
    {
     "name": "stderr",
     "output_type": "stream",
     "text": [
      "\u001b[34m\u001b[1mval: \u001b[0mScanning /raid/students/ryan/ME5/datasets/grocery/labels/val.cache... 1119 images, 0 backgrounds, 0 corrupt: 100%|██████████| 1119/1119 [00:00<?, ?it/s]\n",
      "                 Class     Images  Instances      Box(P          R      mAP50  mAP50-95): 100%|██████████| 70/70 [00:06<00:00, 11.07it/s]\n"
     ]
    },
    {
     "name": "stdout",
     "output_type": "stream",
     "text": [
      "                   all       1119       2301      0.959      0.949       0.97        0.9\n",
      "Speed: 0.1ms preprocess, 2.1ms inference, 0.0ms loss, 0.6ms postprocess per image\n",
      "Results saved to \u001b[1mruns/detect/val27\u001b[0m\n",
      "YOLO11s summary (fused): 238 layers, 9,422,088 parameters, 0 gradients, 21.4 GFLOPs\n"
     ]
    },
    {
     "name": "stderr",
     "output_type": "stream",
     "text": [
      "\u001b[34m\u001b[1mval: \u001b[0mScanning /raid/students/ryan/ME5/datasets/grocery/labels/val.cache... 1119 images, 0 backgrounds, 0 corrupt: 100%|██████████| 1119/1119 [00:00<?, ?it/s]\n",
      "                 Class     Images  Instances      Box(P          R      mAP50  mAP50-95): 100%|██████████| 70/70 [00:05<00:00, 13.83it/s]\n"
     ]
    },
    {
     "name": "stdout",
     "output_type": "stream",
     "text": [
      "                   all       1119       2301      0.948       0.92      0.959      0.864\n",
      "Speed: 0.1ms preprocess, 1.0ms inference, 0.0ms loss, 0.7ms postprocess per image\n",
      "Results saved to \u001b[1mruns/detect/val28\u001b[0m\n",
      "YOLO11l-seg summary (fused): 491 layers, 27,603,096 parameters, 0 gradients, 142.0 GFLOPs\n"
     ]
    },
    {
     "name": "stderr",
     "output_type": "stream",
     "text": [
      "\u001b[34m\u001b[1mval: \u001b[0mScanning /raid/students/ryan/ME5/datasets/grocery/labels/val.cache... 1119 images, 0 backgrounds, 0 corrupt: 100%|██████████| 1119/1119 [00:00<?, ?it/s]\n",
      "                 Class     Images  Instances      Box(P          R      mAP50  mAP50-95)     Mask(P          R      mAP50  mAP50-95): 100%|██████████| 70/70 [00:09<00:00,  7.58it/s]\n"
     ]
    },
    {
     "name": "stdout",
     "output_type": "stream",
     "text": [
      "                   all       1119       2301      0.862      0.754       0.85      0.718       0.86       0.75      0.839      0.683\n",
      "Speed: 0.1ms preprocess, 3.2ms inference, 0.0ms loss, 0.7ms postprocess per image\n",
      "Results saved to \u001b[1mruns/segment/val45\u001b[0m\n",
      "YOLO11m summary (fused): 303 layers, 20,048,536 parameters, 0 gradients, 67.7 GFLOPs\n"
     ]
    },
    {
     "name": "stderr",
     "output_type": "stream",
     "text": [
      "\u001b[34m\u001b[1mval: \u001b[0mScanning /raid/students/ryan/ME5/datasets/grocery/labels/val.cache... 1119 images, 0 backgrounds, 0 corrupt: 100%|██████████| 1119/1119 [00:00<?, ?it/s]\n",
      "                 Class     Images  Instances      Box(P          R      mAP50  mAP50-95): 100%|██████████| 70/70 [00:06<00:00, 11.09it/s]\n"
     ]
    },
    {
     "name": "stdout",
     "output_type": "stream",
     "text": [
      "                   all       1119       2301      0.819      0.746      0.826      0.685\n",
      "Speed: 0.1ms preprocess, 2.1ms inference, 0.0ms loss, 0.8ms postprocess per image\n",
      "Results saved to \u001b[1mruns/detect/val29\u001b[0m\n",
      "YOLO11n-seg summary (fused): 265 layers, 2,839,248 parameters, 0 gradients, 10.2 GFLOPs\n"
     ]
    },
    {
     "name": "stderr",
     "output_type": "stream",
     "text": [
      "\u001b[34m\u001b[1mval: \u001b[0mScanning /raid/students/ryan/ME5/datasets/grocery/labels/val.cache... 1119 images, 0 backgrounds, 0 corrupt: 100%|██████████| 1119/1119 [00:00<?, ?it/s]\n",
      "                 Class     Images  Instances      Box(P          R      mAP50  mAP50-95)     Mask(P          R      mAP50  mAP50-95): 100%|██████████| 70/70 [00:16<00:00,  4.24it/s]\n"
     ]
    },
    {
     "name": "stdout",
     "output_type": "stream",
     "text": [
      "                   all       1119       2301      0.938      0.884      0.939      0.824      0.934      0.879       0.93      0.772\n",
      "Speed: 0.1ms preprocess, 1.1ms inference, 0.0ms loss, 0.7ms postprocess per image\n",
      "Results saved to \u001b[1mruns/segment/val46\u001b[0m\n",
      "YOLO11s summary (fused): 238 layers, 9,422,088 parameters, 0 gradients, 21.4 GFLOPs\n"
     ]
    },
    {
     "name": "stderr",
     "output_type": "stream",
     "text": [
      "\u001b[34m\u001b[1mval: \u001b[0mScanning /raid/students/ryan/ME5/datasets/grocery/labels/val.cache... 1119 images, 0 backgrounds, 0 corrupt: 100%|██████████| 1119/1119 [00:00<?, ?it/s]\n",
      "                 Class     Images  Instances      Box(P          R      mAP50  mAP50-95): 100%|██████████| 70/70 [00:05<00:00, 13.59it/s]\n"
     ]
    },
    {
     "name": "stdout",
     "output_type": "stream",
     "text": [
      "                   all       1119       2301       0.79       0.67      0.763      0.622\n",
      "Speed: 0.1ms preprocess, 1.0ms inference, 0.0ms loss, 0.8ms postprocess per image\n",
      "Results saved to \u001b[1mruns/detect/val30\u001b[0m\n",
      "YOLO11l-seg summary (fused): 491 layers, 27,603,096 parameters, 0 gradients, 142.0 GFLOPs\n"
     ]
    },
    {
     "name": "stderr",
     "output_type": "stream",
     "text": [
      "\u001b[34m\u001b[1mval: \u001b[0mScanning /raid/students/ryan/ME5/datasets/grocery/labels/val.cache... 1119 images, 0 backgrounds, 0 corrupt: 100%|██████████| 1119/1119 [00:00<?, ?it/s]\n",
      "                 Class     Images  Instances      Box(P          R      mAP50  mAP50-95)     Mask(P          R      mAP50  mAP50-95): 100%|██████████| 70/70 [00:09<00:00,  7.35it/s]\n"
     ]
    },
    {
     "name": "stdout",
     "output_type": "stream",
     "text": [
      "                   all       1119       2301      0.952      0.938      0.966      0.895      0.949      0.936      0.962      0.855\n",
      "Speed: 0.1ms preprocess, 3.2ms inference, 0.0ms loss, 0.6ms postprocess per image\n",
      "Results saved to \u001b[1mruns/segment/val47\u001b[0m\n",
      "YOLO11n summary (fused): 238 layers, 2,586,832 parameters, 0 gradients, 6.3 GFLOPs\n"
     ]
    },
    {
     "name": "stderr",
     "output_type": "stream",
     "text": [
      "\u001b[34m\u001b[1mval: \u001b[0mScanning /raid/students/ryan/ME5/datasets/grocery/labels/val.cache... 1119 images, 0 backgrounds, 0 corrupt: 100%|██████████| 1119/1119 [00:00<?, ?it/s]\n",
      "                 Class     Images  Instances      Box(P          R      mAP50  mAP50-95): 100%|██████████| 70/70 [00:06<00:00, 11.35it/s]\n"
     ]
    },
    {
     "name": "stdout",
     "output_type": "stream",
     "text": [
      "                   all       1119       2301      0.944      0.928      0.962      0.862\n",
      "Speed: 0.1ms preprocess, 0.7ms inference, 0.0ms loss, 0.8ms postprocess per image\n",
      "Results saved to \u001b[1mruns/detect/val31\u001b[0m\n",
      "YOLO11n-seg summary (fused): 265 layers, 2,839,248 parameters, 0 gradients, 10.2 GFLOPs\n"
     ]
    },
    {
     "name": "stderr",
     "output_type": "stream",
     "text": [
      "\u001b[34m\u001b[1mval: \u001b[0mScanning /raid/students/ryan/ME5/datasets/grocery/labels/val.cache... 1119 images, 0 backgrounds, 0 corrupt: 100%|██████████| 1119/1119 [00:00<?, ?it/s]\n",
      "                 Class     Images  Instances      Box(P          R      mAP50  mAP50-95)     Mask(P          R      mAP50  mAP50-95): 100%|██████████| 70/70 [00:06<00:00, 10.29it/s]\n"
     ]
    },
    {
     "name": "stdout",
     "output_type": "stream",
     "text": [
      "                   all       1119       2301      0.948      0.921      0.962      0.865       0.95      0.916      0.954      0.814\n",
      "Speed: 0.2ms preprocess, 0.8ms inference, 0.0ms loss, 0.6ms postprocess per image\n",
      "Results saved to \u001b[1mruns/segment/val48\u001b[0m\n",
      "YOLO11s-seg summary (fused): 265 layers, 10,076,104 parameters, 0 gradients, 35.4 GFLOPs\n"
     ]
    },
    {
     "name": "stderr",
     "output_type": "stream",
     "text": [
      "\u001b[34m\u001b[1mval: \u001b[0mScanning /raid/students/ryan/ME5/datasets/grocery/labels/val.cache... 1119 images, 0 backgrounds, 0 corrupt: 100%|██████████| 1119/1119 [00:00<?, ?it/s]\n",
      "                 Class     Images  Instances      Box(P          R      mAP50  mAP50-95)     Mask(P          R      mAP50  mAP50-95): 100%|██████████| 70/70 [00:28<00:00,  2.44it/s]\n"
     ]
    },
    {
     "name": "stdout",
     "output_type": "stream",
     "text": [
      "                   all       1119       2301      0.944      0.913      0.958      0.866      0.942      0.908      0.951      0.815\n",
      "Speed: 0.2ms preprocess, 1.3ms inference, 0.0ms loss, 0.7ms postprocess per image\n",
      "Results saved to \u001b[1mruns/segment/val49\u001b[0m\n",
      "YOLO11n summary (fused): 238 layers, 2,586,832 parameters, 0 gradients, 6.3 GFLOPs\n"
     ]
    },
    {
     "name": "stderr",
     "output_type": "stream",
     "text": [
      "\u001b[34m\u001b[1mval: \u001b[0mScanning /raid/students/ryan/ME5/datasets/grocery/labels/val.cache... 1119 images, 0 backgrounds, 0 corrupt: 100%|██████████| 1119/1119 [00:00<?, ?it/s]\n",
      "                 Class     Images  Instances      Box(P          R      mAP50  mAP50-95): 100%|██████████| 70/70 [00:09<00:00,  7.24it/s]\n"
     ]
    },
    {
     "name": "stdout",
     "output_type": "stream",
     "text": [
      "                   all       1119       2301      0.699      0.584      0.646      0.521\n",
      "Speed: 0.1ms preprocess, 0.7ms inference, 0.0ms loss, 0.7ms postprocess per image\n",
      "Results saved to \u001b[1mruns/detect/val32\u001b[0m\n",
      "YOLO11l summary (fused): 464 layers, 25,297,816 parameters, 0 gradients, 86.7 GFLOPs\n"
     ]
    },
    {
     "name": "stderr",
     "output_type": "stream",
     "text": [
      "\u001b[34m\u001b[1mval: \u001b[0mScanning /raid/students/ryan/ME5/datasets/grocery/labels/val.cache... 1119 images, 0 backgrounds, 0 corrupt: 100%|██████████| 1119/1119 [00:00<?, ?it/s]\n",
      "                 Class     Images  Instances      Box(P          R      mAP50  mAP50-95): 100%|██████████| 70/70 [00:07<00:00,  9.80it/s]\n"
     ]
    },
    {
     "name": "stdout",
     "output_type": "stream",
     "text": [
      "                   all       1119       2301      0.955      0.954      0.974      0.907\n",
      "Speed: 0.1ms preprocess, 2.6ms inference, 0.0ms loss, 0.9ms postprocess per image\n",
      "Results saved to \u001b[1mruns/detect/val33\u001b[0m\n",
      "YOLO11n-seg summary (fused): 265 layers, 2,839,248 parameters, 0 gradients, 10.2 GFLOPs\n"
     ]
    },
    {
     "name": "stderr",
     "output_type": "stream",
     "text": [
      "\u001b[34m\u001b[1mval: \u001b[0mScanning /raid/students/ryan/ME5/datasets/grocery/labels/val.cache... 1119 images, 0 backgrounds, 0 corrupt: 100%|██████████| 1119/1119 [00:00<?, ?it/s]\n",
      "                 Class     Images  Instances      Box(P          R      mAP50  mAP50-95)     Mask(P          R      mAP50  mAP50-95): 100%|██████████| 70/70 [00:07<00:00,  9.33it/s]\n"
     ]
    },
    {
     "name": "stdout",
     "output_type": "stream",
     "text": [
      "                   all       1119       2301      0.706      0.583      0.647       0.52      0.731      0.559      0.636      0.489\n",
      "Speed: 0.2ms preprocess, 0.9ms inference, 0.0ms loss, 0.7ms postprocess per image\n",
      "Results saved to \u001b[1mruns/segment/val50\u001b[0m\n",
      "YOLO11s summary (fused): 238 layers, 9,422,088 parameters, 0 gradients, 21.4 GFLOPs\n"
     ]
    },
    {
     "name": "stderr",
     "output_type": "stream",
     "text": [
      "\u001b[34m\u001b[1mval: \u001b[0mScanning /raid/students/ryan/ME5/datasets/grocery/labels/val.cache... 1119 images, 0 backgrounds, 0 corrupt: 100%|██████████| 1119/1119 [00:00<?, ?it/s]\n",
      "                 Class     Images  Instances      Box(P          R      mAP50  mAP50-95): 100%|██████████| 70/70 [00:05<00:00, 12.64it/s]\n"
     ]
    },
    {
     "name": "stdout",
     "output_type": "stream",
     "text": [
      "                   all       1119       2301      0.963       0.94      0.971      0.886\n",
      "Speed: 0.1ms preprocess, 1.2ms inference, 0.0ms loss, 0.9ms postprocess per image\n",
      "Results saved to \u001b[1mruns/detect/val34\u001b[0m\n",
      "YOLO11l summary (fused): 464 layers, 25,297,816 parameters, 0 gradients, 86.7 GFLOPs\n"
     ]
    },
    {
     "name": "stderr",
     "output_type": "stream",
     "text": [
      "\u001b[34m\u001b[1mval: \u001b[0mScanning /raid/students/ryan/ME5/datasets/grocery/labels/val.cache... 1119 images, 0 backgrounds, 0 corrupt: 100%|██████████| 1119/1119 [00:00<?, ?it/s]\n",
      "                 Class     Images  Instances      Box(P          R      mAP50  mAP50-95): 100%|██████████| 70/70 [00:06<00:00, 10.17it/s]\n"
     ]
    },
    {
     "name": "stdout",
     "output_type": "stream",
     "text": [
      "                   all       1119       2301      0.848      0.763      0.841      0.708\n",
      "Speed: 0.1ms preprocess, 2.7ms inference, 0.0ms loss, 0.9ms postprocess per image\n",
      "Results saved to \u001b[1mruns/detect/val35\u001b[0m\n",
      "YOLO11m-seg summary (fused): 330 layers, 22,353,816 parameters, 0 gradients, 123.1 GFLOPs\n"
     ]
    },
    {
     "name": "stderr",
     "output_type": "stream",
     "text": [
      "\u001b[34m\u001b[1mval: \u001b[0mScanning /raid/students/ryan/ME5/datasets/grocery/labels/val.cache... 1119 images, 0 backgrounds, 0 corrupt: 100%|██████████| 1119/1119 [00:00<?, ?it/s]\n",
      "                 Class     Images  Instances      Box(P          R      mAP50  mAP50-95)     Mask(P          R      mAP50  mAP50-95): 100%|██████████| 70/70 [00:08<00:00,  7.81it/s]\n"
     ]
    },
    {
     "name": "stdout",
     "output_type": "stream",
     "text": [
      "                   all       1119       2301      0.957      0.954      0.975      0.908      0.956      0.951      0.969      0.869\n",
      "Speed: 0.2ms preprocess, 2.6ms inference, 0.0ms loss, 0.7ms postprocess per image\n",
      "Results saved to \u001b[1mruns/segment/val51\u001b[0m\n",
      "YOLO11m-seg summary (fused): 330 layers, 22,353,816 parameters, 0 gradients, 123.1 GFLOPs\n"
     ]
    },
    {
     "name": "stderr",
     "output_type": "stream",
     "text": [
      "\u001b[34m\u001b[1mval: \u001b[0mScanning /raid/students/ryan/ME5/datasets/grocery/labels/val.cache... 1119 images, 0 backgrounds, 0 corrupt: 100%|██████████| 1119/1119 [00:00<?, ?it/s]\n",
      "                 Class     Images  Instances      Box(P          R      mAP50  mAP50-95)     Mask(P          R      mAP50  mAP50-95): 100%|██████████| 70/70 [00:08<00:00,  7.98it/s]\n"
     ]
    },
    {
     "name": "stdout",
     "output_type": "stream",
     "text": [
      "                   all       1119       2301      0.949       0.94      0.963      0.887      0.944      0.942       0.96      0.846\n",
      "Speed: 0.1ms preprocess, 2.6ms inference, 0.0ms loss, 0.6ms postprocess per image\n",
      "Results saved to \u001b[1mruns/segment/val52\u001b[0m\n",
      "YOLO11l summary (fused): 464 layers, 25,297,816 parameters, 0 gradients, 86.7 GFLOPs\n"
     ]
    },
    {
     "name": "stderr",
     "output_type": "stream",
     "text": [
      "\u001b[34m\u001b[1mval: \u001b[0mScanning /raid/students/ryan/ME5/datasets/grocery/labels/val.cache... 1119 images, 0 backgrounds, 0 corrupt: 100%|██████████| 1119/1119 [00:00<?, ?it/s]\n",
      "                 Class     Images  Instances      Box(P          R      mAP50  mAP50-95): 100%|██████████| 70/70 [00:07<00:00,  9.90it/s]\n"
     ]
    },
    {
     "name": "stdout",
     "output_type": "stream",
     "text": [
      "                   all       1119       2301      0.952      0.938      0.967      0.895\n",
      "Speed: 0.1ms preprocess, 2.7ms inference, 0.0ms loss, 0.9ms postprocess per image\n",
      "Results saved to \u001b[1mruns/detect/val36\u001b[0m\n",
      "YOLO11l-seg summary (fused): 491 layers, 27,603,096 parameters, 0 gradients, 142.0 GFLOPs\n"
     ]
    },
    {
     "name": "stderr",
     "output_type": "stream",
     "text": [
      "\u001b[34m\u001b[1mval: \u001b[0mScanning /raid/students/ryan/ME5/datasets/grocery/labels/val.cache... 1119 images, 0 backgrounds, 0 corrupt: 100%|██████████| 1119/1119 [00:00<?, ?it/s]\n",
      "                 Class     Images  Instances      Box(P          R      mAP50  mAP50-95)     Mask(P          R      mAP50  mAP50-95):   4%|▍         | 3/70 [00:01<00:30,  2.16it/s]"
     ]
    },
    {
     "name": "stdout",
     "output_type": "stream",
     "text": [
      "WARNING ⚠️ NMS time limit 2.800s exceeded\n"
     ]
    },
    {
     "name": "stderr",
     "output_type": "stream",
     "text": [
      "                 Class     Images  Instances      Box(P          R      mAP50  mAP50-95)     Mask(P          R      mAP50  mAP50-95): 100%|██████████| 70/70 [00:17<00:00,  3.97it/s]\n"
     ]
    },
    {
     "name": "stdout",
     "output_type": "stream",
     "text": [
      "                   all       1119       2301      0.961      0.951       0.97      0.905      0.963      0.944      0.964      0.869\n",
      "Speed: 0.1ms preprocess, 3.3ms inference, 0.0ms loss, 7.3ms postprocess per image\n",
      "Results saved to \u001b[1mruns/segment/val53\u001b[0m\n",
      "YOLO11n summary (fused): 238 layers, 2,586,832 parameters, 0 gradients, 6.3 GFLOPs\n"
     ]
    },
    {
     "name": "stderr",
     "output_type": "stream",
     "text": [
      "\u001b[34m\u001b[1mval: \u001b[0mScanning /raid/students/ryan/ME5/datasets/grocery/labels/val.cache... 1119 images, 0 backgrounds, 0 corrupt: 100%|██████████| 1119/1119 [00:00<?, ?it/s]\n",
      "                 Class     Images  Instances      Box(P          R      mAP50  mAP50-95): 100%|██████████| 70/70 [00:05<00:00, 12.50it/s]\n"
     ]
    },
    {
     "name": "stdout",
     "output_type": "stream",
     "text": [
      "                   all       1119       2301      0.932      0.887       0.94      0.824\n",
      "Speed: 0.2ms preprocess, 0.7ms inference, 0.0ms loss, 0.8ms postprocess per image\n",
      "Results saved to \u001b[1mruns/detect/val37\u001b[0m\n",
      "YOLO11m-seg summary (fused): 330 layers, 22,353,816 parameters, 0 gradients, 123.1 GFLOPs\n"
     ]
    },
    {
     "name": "stderr",
     "output_type": "stream",
     "text": [
      "\u001b[34m\u001b[1mval: \u001b[0mScanning /raid/students/ryan/ME5/datasets/grocery/labels/val.cache... 1119 images, 0 backgrounds, 0 corrupt: 100%|██████████| 1119/1119 [00:00<?, ?it/s]\n",
      "                 Class     Images  Instances      Box(P          R      mAP50  mAP50-95)     Mask(P          R      mAP50  mAP50-95): 100%|██████████| 70/70 [00:09<00:00,  7.58it/s]\n"
     ]
    },
    {
     "name": "stdout",
     "output_type": "stream",
     "text": [
      "                   all       1119       2301      0.837      0.738      0.827      0.692       0.83      0.732      0.815      0.664\n",
      "Speed: 0.1ms preprocess, 2.6ms inference, 0.0ms loss, 0.6ms postprocess per image\n",
      "Results saved to \u001b[1mruns/segment/val54\u001b[0m\n",
      "YOLO11s-seg summary (fused): 265 layers, 10,076,104 parameters, 0 gradients, 35.4 GFLOPs\n"
     ]
    },
    {
     "name": "stderr",
     "output_type": "stream",
     "text": [
      "\u001b[34m\u001b[1mval: \u001b[0mScanning /raid/students/ryan/ME5/datasets/grocery/labels/val.cache... 1119 images, 0 backgrounds, 0 corrupt: 100%|██████████| 1119/1119 [00:00<?, ?it/s]\n",
      "                 Class     Images  Instances      Box(P          R      mAP50  mAP50-95)     Mask(P          R      mAP50  mAP50-95): 100%|██████████| 70/70 [00:24<00:00,  2.80it/s]\n"
     ]
    },
    {
     "name": "stdout",
     "output_type": "stream",
     "text": [
      "                   all       1119       2301      0.952      0.946       0.97       0.89      0.947      0.946      0.963      0.848\n",
      "Speed: 15.8ms preprocess, 1.3ms inference, 0.0ms loss, 0.6ms postprocess per image\n",
      "Results saved to \u001b[1mruns/segment/val55\u001b[0m\n",
      "YOLO11s-seg summary (fused): 265 layers, 10,076,104 parameters, 0 gradients, 35.4 GFLOPs\n"
     ]
    },
    {
     "name": "stderr",
     "output_type": "stream",
     "text": [
      "\u001b[34m\u001b[1mval: \u001b[0mScanning /raid/students/ryan/ME5/datasets/grocery/labels/val.cache... 1119 images, 0 backgrounds, 0 corrupt: 100%|██████████| 1119/1119 [00:00<?, ?it/s]\n",
      "                 Class     Images  Instances      Box(P          R      mAP50  mAP50-95)     Mask(P          R      mAP50  mAP50-95): 100%|██████████| 70/70 [00:09<00:00,  7.09it/s]\n"
     ]
    },
    {
     "name": "stdout",
     "output_type": "stream",
     "text": [
      "                   all       1119       2301      0.794      0.662      0.756      0.617      0.789      0.654      0.742      0.582\n",
      "Speed: 0.2ms preprocess, 1.2ms inference, 0.0ms loss, 0.6ms postprocess per image\n",
      "Results saved to \u001b[1mruns/segment/val56\u001b[0m\n",
      "YOLO11l-seg summary (fused): 491 layers, 27,603,096 parameters, 0 gradients, 142.0 GFLOPs\n"
     ]
    },
    {
     "name": "stderr",
     "output_type": "stream",
     "text": [
      "\u001b[34m\u001b[1mval: \u001b[0mScanning /raid/students/ryan/ME5/datasets/grocery/labels/val.cache... 1119 images, 0 backgrounds, 0 corrupt: 100%|██████████| 1119/1119 [00:00<?, ?it/s]\n",
      "                 Class     Images  Instances      Box(P          R      mAP50  mAP50-95)     Mask(P          R      mAP50  mAP50-95): 100%|██████████| 70/70 [00:15<00:00,  4.60it/s]\n"
     ]
    },
    {
     "name": "stdout",
     "output_type": "stream",
     "text": [
      "                   all       1119       2301      0.862      0.754       0.85      0.718       0.86       0.75      0.839      0.683\n",
      "Speed: 0.2ms preprocess, 3.2ms inference, 0.0ms loss, 0.8ms postprocess per image\n",
      "Results saved to \u001b[1mruns/segment/val57\u001b[0m\n",
      "YOLO11n-seg summary (fused): 265 layers, 2,839,248 parameters, 0 gradients, 10.2 GFLOPs\n"
     ]
    },
    {
     "name": "stderr",
     "output_type": "stream",
     "text": [
      "\u001b[34m\u001b[1mval: \u001b[0mScanning /raid/students/ryan/ME5/datasets/grocery/labels/val.cache... 1119 images, 0 backgrounds, 0 corrupt: 100%|██████████| 1119/1119 [00:00<?, ?it/s]\n",
      "                 Class     Images  Instances      Box(P          R      mAP50  mAP50-95)     Mask(P          R      mAP50  mAP50-95): 100%|██████████| 70/70 [00:07<00:00,  9.10it/s]\n"
     ]
    },
    {
     "name": "stdout",
     "output_type": "stream",
     "text": [
      "                   all       1119       2301      0.938      0.884      0.939      0.824      0.934      0.879       0.93      0.772\n",
      "Speed: 0.1ms preprocess, 0.9ms inference, 0.0ms loss, 0.7ms postprocess per image\n",
      "Results saved to \u001b[1mruns/segment/val58\u001b[0m\n",
      "YOLO11l-seg summary (fused): 491 layers, 27,603,096 parameters, 0 gradients, 142.0 GFLOPs\n"
     ]
    },
    {
     "name": "stderr",
     "output_type": "stream",
     "text": [
      "\u001b[34m\u001b[1mval: \u001b[0mScanning /raid/students/ryan/ME5/datasets/grocery/labels/val.cache... 1119 images, 0 backgrounds, 0 corrupt: 100%|██████████| 1119/1119 [00:00<?, ?it/s]\n",
      "                 Class     Images  Instances      Box(P          R      mAP50  mAP50-95)     Mask(P          R      mAP50  mAP50-95): 100%|██████████| 70/70 [00:09<00:00,  7.21it/s]\n"
     ]
    },
    {
     "name": "stdout",
     "output_type": "stream",
     "text": [
      "                   all       1119       2301      0.952      0.938      0.966      0.895      0.949      0.936      0.962      0.855\n",
      "Speed: 0.2ms preprocess, 3.2ms inference, 0.0ms loss, 0.7ms postprocess per image\n",
      "Results saved to \u001b[1mruns/segment/val59\u001b[0m\n",
      "YOLO11n-seg summary (fused): 265 layers, 2,839,248 parameters, 0 gradients, 10.2 GFLOPs\n"
     ]
    },
    {
     "name": "stderr",
     "output_type": "stream",
     "text": [
      "\u001b[34m\u001b[1mval: \u001b[0mScanning /raid/students/ryan/ME5/datasets/grocery/labels/val.cache... 1119 images, 0 backgrounds, 0 corrupt: 100%|██████████| 1119/1119 [00:00<?, ?it/s]\n",
      "                 Class     Images  Instances      Box(P          R      mAP50  mAP50-95)     Mask(P          R      mAP50  mAP50-95): 100%|██████████| 70/70 [00:07<00:00,  9.68it/s]\n"
     ]
    },
    {
     "name": "stdout",
     "output_type": "stream",
     "text": [
      "                   all       1119       2301      0.948      0.921      0.962      0.865       0.95      0.916      0.954      0.814\n",
      "Speed: 0.1ms preprocess, 0.9ms inference, 0.0ms loss, 0.6ms postprocess per image\n",
      "Results saved to \u001b[1mruns/segment/val60\u001b[0m\n",
      "YOLO11s-seg summary (fused): 265 layers, 10,076,104 parameters, 0 gradients, 35.4 GFLOPs\n"
     ]
    },
    {
     "name": "stderr",
     "output_type": "stream",
     "text": [
      "\u001b[34m\u001b[1mval: \u001b[0mScanning /raid/students/ryan/ME5/datasets/grocery/labels/val.cache... 1119 images, 0 backgrounds, 0 corrupt: 100%|██████████| 1119/1119 [00:00<?, ?it/s]\n",
      "                 Class     Images  Instances      Box(P          R      mAP50  mAP50-95)     Mask(P          R      mAP50  mAP50-95): 100%|██████████| 70/70 [00:08<00:00,  8.45it/s]\n"
     ]
    },
    {
     "name": "stdout",
     "output_type": "stream",
     "text": [
      "                   all       1119       2301      0.944      0.913      0.958      0.866      0.942      0.908      0.951      0.815\n",
      "Speed: 0.1ms preprocess, 1.3ms inference, 0.0ms loss, 0.7ms postprocess per image\n",
      "Results saved to \u001b[1mruns/segment/val61\u001b[0m\n",
      "YOLO11n-seg summary (fused): 265 layers, 2,839,248 parameters, 0 gradients, 10.2 GFLOPs\n"
     ]
    },
    {
     "name": "stderr",
     "output_type": "stream",
     "text": [
      "\u001b[34m\u001b[1mval: \u001b[0mScanning /raid/students/ryan/ME5/datasets/grocery/labels/val.cache... 1119 images, 0 backgrounds, 0 corrupt: 100%|██████████| 1119/1119 [00:00<?, ?it/s]\n",
      "                 Class     Images  Instances      Box(P          R      mAP50  mAP50-95)     Mask(P          R      mAP50  mAP50-95): 100%|██████████| 70/70 [00:07<00:00,  9.78it/s]\n"
     ]
    },
    {
     "name": "stdout",
     "output_type": "stream",
     "text": [
      "                   all       1119       2301      0.706      0.583      0.647       0.52      0.731      0.559      0.636      0.489\n",
      "Speed: 0.1ms preprocess, 0.9ms inference, 0.0ms loss, 0.7ms postprocess per image\n",
      "Results saved to \u001b[1mruns/segment/val62\u001b[0m\n",
      "YOLO11m-seg summary (fused): 330 layers, 22,353,816 parameters, 0 gradients, 123.1 GFLOPs\n"
     ]
    },
    {
     "name": "stderr",
     "output_type": "stream",
     "text": [
      "\u001b[34m\u001b[1mval: \u001b[0mScanning /raid/students/ryan/ME5/datasets/grocery/labels/val.cache... 1119 images, 0 backgrounds, 0 corrupt: 100%|██████████| 1119/1119 [00:00<?, ?it/s]\n",
      "                 Class     Images  Instances      Box(P          R      mAP50  mAP50-95)     Mask(P          R      mAP50  mAP50-95): 100%|██████████| 70/70 [01:52<00:00,  1.60s/it]\n"
     ]
    },
    {
     "name": "stdout",
     "output_type": "stream",
     "text": [
      "                   all       1119       2301      0.957      0.954      0.975      0.908      0.956      0.951      0.969      0.869\n",
      "Speed: 0.2ms preprocess, 8.3ms inference, 0.0ms loss, 1.0ms postprocess per image\n",
      "Results saved to \u001b[1mruns/segment/val63\u001b[0m\n",
      "YOLO11m-seg summary (fused): 330 layers, 22,353,816 parameters, 0 gradients, 123.1 GFLOPs\n"
     ]
    },
    {
     "name": "stderr",
     "output_type": "stream",
     "text": [
      "\u001b[34m\u001b[1mval: \u001b[0mScanning /raid/students/ryan/ME5/datasets/grocery/labels/val.cache... 1119 images, 0 backgrounds, 0 corrupt: 100%|██████████| 1119/1119 [00:00<?, ?it/s]\n",
      "                 Class     Images  Instances      Box(P          R      mAP50  mAP50-95)     Mask(P          R      mAP50  mAP50-95): 100%|██████████| 70/70 [01:40<00:00,  1.43s/it]\n"
     ]
    },
    {
     "name": "stdout",
     "output_type": "stream",
     "text": [
      "                   all       1119       2301      0.949       0.94      0.963      0.887      0.944      0.942       0.96      0.846\n",
      "Speed: 0.2ms preprocess, 3.5ms inference, 0.0ms loss, 1.3ms postprocess per image\n",
      "Results saved to \u001b[1mruns/segment/val64\u001b[0m\n",
      "YOLO11l-seg summary (fused): 491 layers, 27,603,096 parameters, 0 gradients, 142.0 GFLOPs\n"
     ]
    },
    {
     "name": "stderr",
     "output_type": "stream",
     "text": [
      "\u001b[34m\u001b[1mval: \u001b[0mScanning /raid/students/ryan/ME5/datasets/grocery/labels/val.cache... 1119 images, 0 backgrounds, 0 corrupt: 100%|██████████| 1119/1119 [00:00<?, ?it/s]\n",
      "                 Class     Images  Instances      Box(P          R      mAP50  mAP50-95)     Mask(P          R      mAP50  mAP50-95):   4%|▍         | 3/70 [16:29<6:32:21, 351.37s/it]"
     ]
    },
    {
     "name": "stdout",
     "output_type": "stream",
     "text": [
      "WARNING ⚠️ NMS time limit 2.800s exceeded\n"
     ]
    },
    {
     "name": "stderr",
     "output_type": "stream",
     "text": [
      "                 Class     Images  Instances      Box(P          R      mAP50  mAP50-95)     Mask(P          R      mAP50  mAP50-95): 100%|██████████| 70/70 [27:00<00:00, 23.15s/it]  \n"
     ]
    },
    {
     "name": "stdout",
     "output_type": "stream",
     "text": [
      "                   all       1119       2301      0.961      0.954      0.972      0.907      0.963      0.946      0.966       0.87\n",
      "Speed: 2.2ms preprocess, 640.2ms inference, 0.0ms loss, 6.3ms postprocess per image\n",
      "Results saved to \u001b[1mruns/segment/val65\u001b[0m\n"
     ]
    }
   ],
   "source": [
    "from ultralytics import YOLO\n",
    "\n",
    "detect_metrics = []\n",
    "segment_metrics = []\n",
    "\n",
    "for weights_path in weights_paths:\n",
    "    model = YOLO(weights_path, task=\"detect\")\n",
    "    metrics = model.val(device=device, verbose=False)\n",
    "    detect_metrics.append(metrics)\n",
    "\n",
    "    del model\n",
    "    del metrics\n",
    "\n",
    "for weights_path in weights_paths:\n",
    "    if \"seg\" in weights_path:\n",
    "        model = YOLO(weights_path, task=\"segment\")\n",
    "        metrics = model.val(device=device, verbose=False)\n",
    "        segment_metrics.append(metrics)\n",
    "\n",
    "        del model\n",
    "        del metrics\n",
    "        "
   ]
  },
  {
   "cell_type": "markdown",
   "metadata": {},
   "source": [
    "## Save Scores"
   ]
  },
  {
   "cell_type": "code",
   "execution_count": 34,
   "metadata": {},
   "outputs": [
    {
     "data": {
      "text/plain": [
       "['best_weights/yolo11m-seg-freeze-all.pt',\n",
       " 'best_weights/yolo11m-freeze-backbone.pt',\n",
       " 'best_weights/yolo11s-seg-full.pt',\n",
       " 'best_weights/yolo11s-seg-freeze-all.pt',\n",
       " 'best_weights/yolo11m-full.pt',\n",
       " 'best_weights/yolo11s-freeze-backbone.pt',\n",
       " 'best_weights/yolo11l-seg-freeze-all.pt',\n",
       " 'best_weights/yolo11m-freeze-all.pt',\n",
       " 'best_weights/yolo11n-seg-freeze-backbone.pt',\n",
       " 'best_weights/yolo11s-freeze-all.pt',\n",
       " 'best_weights/yolo11l-seg-freeze-backbone.pt',\n",
       " 'best_weights/yolo11n-full.pt',\n",
       " 'best_weights/yolo11n-seg-full.pt',\n",
       " 'best_weights/yolo11s-seg-freeze-backbone.pt',\n",
       " 'best_weights/yolo11n-freeze-all.pt',\n",
       " 'best_weights/yolo11l-full.pt',\n",
       " 'best_weights/yolo11n-seg-freeze-all.pt',\n",
       " 'best_weights/yolo11s-full.pt',\n",
       " 'best_weights/yolo11l-freeze-all.pt',\n",
       " 'best_weights/yolo11m-seg-full.pt',\n",
       " 'best_weights/yolo11m-seg-freeze-backbone.pt',\n",
       " 'best_weights/yolo11l-freeze-backbone.pt',\n",
       " 'best_weights/yolo11l-seg-full.pt',\n",
       " 'best_weights/yolo11n-freeze-backbone.pt']"
      ]
     },
     "execution_count": 34,
     "metadata": {},
     "output_type": "execute_result"
    }
   ],
   "source": [
    "weights_paths"
   ]
  },
  {
   "cell_type": "code",
   "execution_count": 23,
   "metadata": {},
   "outputs": [],
   "source": [
    "detect_mAP_scores = []\n",
    "segment_mAP_scores = []\n",
    "\n",
    "detect_inference_speed = []\n",
    "segment_inference_speed = []\n",
    "\n",
    "detect_mAP50_scores = []\n",
    "detect_mAP75_scores = []\n",
    "detect_mAP_classes = []\n",
    "detect_overall_speed = []\n",
    "\n",
    "segment_mAP50_scores = []\n",
    "segment_mAP75_scores = []\n",
    "segment_mAP_classes = []\n",
    "segment_overall_speed = []\n",
    "\n",
    "for metrics in detect_metrics:\n",
    "    detect_mAP_scores.append(metrics.box.map)\n",
    "    detect_inference_speed.append(metrics.speed['inference'])\n",
    "    detect_mAP50_scores.append(metrics.box.map50)\n",
    "    detect_mAP75_scores.append(metrics.box.map75)\n",
    "    detect_mAP_classes.append(list(metrics.box.maps))\n",
    "    detect_overall_speed.append(metrics.speed)\n",
    "\n",
    "\n",
    "for metrics in segment_metrics:\n",
    "    segment_mAP_scores.append(metrics.box.map)\n",
    "    segment_inference_speed.append(metrics.speed['inference'])\n",
    "    segment_mAP50_scores.append(metrics.box.map50)\n",
    "    segment_mAP75_scores.append(metrics.box.map75)\n",
    "    segment_mAP_classes.append(list(metrics.box.maps))\n",
    "    segment_overall_speed.append(metrics.speed)"
   ]
  },
  {
   "cell_type": "code",
   "execution_count": 24,
   "metadata": {},
   "outputs": [],
   "source": [
    "detect_models = []\n",
    "segment_models = []\n",
    "\n",
    "for weights_path in weights_paths:\n",
    "    # train type\n",
    "    if \"freeze-all\" in weights_path:\n",
    "        train_type = \"freeze-all\"\n",
    "    elif \"freeze-backbone\" in weights_path:\n",
    "        train_type = \"freeze-backbone\"\n",
    "    else:\n",
    "        train_type = \"full\"\n",
    "\n",
    "    # model\n",
    "    if \"yolo11n\" in weights_path:\n",
    "        if \"seg\" in weights_path:\n",
    "            model = \"YOLO11n-seg\"\n",
    "        else:\n",
    "            model = \"YOLO11n\"\n",
    "    elif \"yolo11s\" in weights_path:\n",
    "        if \"seg\" in weights_path:\n",
    "            model = \"YOLO11s-seg\"\n",
    "        else:\n",
    "            model = \"YOLO11s\"\n",
    "    elif \"yolo11m\" in weights_path:\n",
    "        if \"seg\" in weights_path:\n",
    "            model = \"YOLO11m-seg\"\n",
    "        else:\n",
    "            model = \"YOLO11m\"\n",
    "    elif \"yolo11l\" in weights_path:\n",
    "        if \"seg\" in weights_path:\n",
    "            model = \"YOLO11l-seg\"\n",
    "        else:\n",
    "            model = \"YOLO11l\"\n",
    "    \n",
    "    detect_models.append(f\"{model}-{train_type}\")\n",
    "    if \"seg\" in weights_path:\n",
    "        segment_models.append(f\"{model}-{train_type}\")"
   ]
  },
  {
   "cell_type": "code",
   "execution_count": 25,
   "metadata": {},
   "outputs": [],
   "source": [
    "import json\n",
    "\n",
    "detect_metrics_dict = {\n",
    "    model: {\"mAP (50-95)\": mAP, \n",
    "            \"mAP 50\": mAP50,\n",
    "            \"mAP 75\": mAP75,\n",
    "            \"class mAPs\": maps,\n",
    "            \"inference_speed\": inference_speed,\n",
    "            \"overall_speed\": overall_speed\n",
    "            }\n",
    "    for model, mAP, mAP50, mAP75, maps, inference_speed, overall_speed \n",
    "                                        in zip(detect_models, \n",
    "                                              detect_mAP_scores, \n",
    "                                              detect_mAP50_scores,\n",
    "                                              detect_mAP75_scores,\n",
    "                                              detect_mAP_classes,\n",
    "                                              detect_inference_speed,\n",
    "                                              detect_overall_speed\n",
    "                                              )\n",
    "}\n",
    "\n",
    "segment_metrics_dict = {\n",
    "    model: {\"mAP (50-95)\": mAP, \n",
    "            \"mAP 50\": mAP50,\n",
    "            \"mAP 75\": mAP75,\n",
    "            \"class mAPs\": maps,\n",
    "            \"inference_speed\": inference_speed,\n",
    "            \"overall_speed\": overall_speed\n",
    "            }\n",
    "    for model, mAP, mAP50, mAP75, maps, inference_speed, overall_speed \n",
    "                                        in zip(segment_models, \n",
    "                                              segment_mAP_scores, \n",
    "                                              segment_mAP50_scores,\n",
    "                                              segment_mAP75_scores,\n",
    "                                              segment_mAP_classes,\n",
    "                                              segment_inference_speed,\n",
    "                                              segment_overall_speed\n",
    "                                              )\n",
    "}\n"
   ]
  },
  {
   "cell_type": "code",
   "execution_count": null,
   "metadata": {},
   "outputs": [],
   "source": [
    "# segment_metrics['YOLO11m-seg-freeze-backbone']['mAP (50-95)'] = metrics_new.box.map\n",
    "# segment_metrics['YOLO11m-seg-freeze-backbone']['mAP 50'] = metrics_new.box.map50\n",
    "# segment_metrics['YOLO11m-seg-freeze-backbone']['mAP 75'] = metrics_new.box.map75\n",
    "# segment_metrics['YOLO11m-seg-freeze-backbone']['class mAPs'] = list(metrics_new.box.maps)\n",
    "# segment_metrics['YOLO11m-seg-freeze-backbone']['inference_speed'] = metrics_new.speed['inference']\n",
    "# segment_metrics['YOLO11m-seg-freeze-backbone']['overall_speed'] = metrics_new.speed"
   ]
  },
  {
   "cell_type": "code",
   "execution_count": 9,
   "metadata": {},
   "outputs": [
    {
     "name": "stdout",
     "output_type": "stream",
     "text": [
      "{'mAP (50-95)': np.float64(0.8979984229779693), 'mAP 50': np.float64(0.9671851546687525), 'mAP 75': np.float64(0.9378260969044954), 'class mAPs': [np.float64(0.9380434601176351), np.float64(0.8823013015107396), np.float64(0.8978228526990826), np.float64(0.8258575357704606), np.float64(0.9664758250764827), np.float64(0.898101884987604), np.float64(0.9170876113523928), np.float64(0.8628097927681917), np.float64(0.9269213570448454), np.float64(0.9626604568908954), np.float64(0.9716861847968536), np.float64(0.9225162955537979), np.float64(0.915014199048118), np.float64(0.9295097167762056), np.float64(0.8383005602933993), np.float64(0.8998251866567866), np.float64(0.9039881320832206), np.float64(0.8375202717130079), np.float64(0.9575008191321499), np.float64(0.9445671866182295), np.float64(0.7998731114611124), np.float64(0.9474700974686405), np.float64(0.7844251568062595), np.float64(0.8216831548451529)], 'inference_speed': 4.322036661347499, 'overall_speed': {'preprocess': 0.11347232917465196, 'inference': 4.322036661347499, 'loss': 0.0009839293997238746, 'postprocess': 0.8020680114773366}}\n"
     ]
    }
   ],
   "source": [
    "# # add new model to the dictionary\n",
    "# detect_metrics_dict['YOLO11x-freeze-backbone'] = {\"mAP (50-95)\": metrics_new.box.map, \n",
    "#             \"mAP 50\": metrics_new.box.map50,\n",
    "#             \"mAP 75\": metrics_new.box.map75,\n",
    "#             \"class mAPs\": list(metrics_new.box.maps),\n",
    "#             \"inference_speed\": metrics_new.speed['inference'],\n",
    "#             \"overall_speed\": metrics_new.speed\n",
    "#             }\n",
    "\n",
    "# print(detect_metrics_dict['YOLO11x-freeze-backbone'])"
   ]
  },
  {
   "cell_type": "code",
   "execution_count": 10,
   "metadata": {},
   "outputs": [],
   "source": [
    "# Save to JSON file\n",
    "with open(\"metrics/detect_metrics.json\", \"w\") as f:\n",
    "    json.dump(detect_metrics_dict, f, indent=4)\n",
    "\n",
    "\n",
    "# Save to JSON file\n",
    "with open(\"metrics/segment_metrics.json\", \"w\") as f:\n",
    "    json.dump(segment_metrics_dict, f, indent=4)"
   ]
  },
  {
   "cell_type": "markdown",
   "metadata": {},
   "source": [
    "## Re-evaluate Selected Models"
   ]
  },
  {
   "cell_type": "code",
   "execution_count": 4,
   "metadata": {},
   "outputs": [
    {
     "name": "stdout",
     "output_type": "stream",
     "text": [
      "YOLO11x summary (fused): 464 layers, 56,854,744 parameters, 0 gradients, 194.6 GFLOPs\n"
     ]
    },
    {
     "name": "stderr",
     "output_type": "stream",
     "text": [
      "\u001b[34m\u001b[1mval: \u001b[0mScanning /raid/students/ryan/ME5/datasets/grocery/labels/val.cache... 1119 images, 0 backgrounds, 0 corrupt: 100%|██████████| 1119/1119 [00:00<?, ?it/s]\n",
      "                 Class     Images  Instances      Box(P          R      mAP50  mAP50-95): 100%|██████████| 70/70 [00:23<00:00,  2.97it/s]\n"
     ]
    },
    {
     "name": "stdout",
     "output_type": "stream",
     "text": [
      "                   all       1119       2301      0.959       0.94      0.967      0.898\n",
      "Speed: 0.1ms preprocess, 4.3ms inference, 0.0ms loss, 0.8ms postprocess per image\n",
      "Results saved to \u001b[1mruns/detect/val41\u001b[0m\n",
      "Inference Speed: 4.322036661347499\n"
     ]
    }
   ],
   "source": [
    "from ultralytics import YOLO\n",
    "\n",
    "model = YOLO(\"best_weights/yolo11x-freeze-backbone.pt\", task=\"segment\")\n",
    "metrics_new = model.val(device=device, verbose=False)\n",
    "\n",
    "print(\"Inference Speed:\", metrics_new.speed['inference'])"
   ]
  },
  {
   "cell_type": "markdown",
   "metadata": {},
   "source": [
    "## Visualize mAP vs Speed"
   ]
  },
  {
   "cell_type": "code",
   "execution_count": 11,
   "metadata": {},
   "outputs": [],
   "source": [
    "import json \n",
    "\n",
    "# Load the segment_metrics JSON file\n",
    "with open(\"metrics/detect_metrics.json\", \"r\") as f:\n",
    "    detect_metrics = json.load(f)\n",
    "\n",
    "# Load the segment_metrics JSON file\n",
    "with open(\"metrics/segment_metrics.json\", \"r\") as f:\n",
    "    segment_metrics = json.load(f)\n",
    "\n",
    "detect_metrics_dict = detect_metrics\n",
    "segment_metrics_dict = segment_metrics"
   ]
  },
  {
   "cell_type": "code",
   "execution_count": null,
   "metadata": {},
   "outputs": [
    {
     "data": {
      "image/png": "[encoded data removed]",
      "text/plain": [
       "<Figure size 1200x800 with 1 Axes>"
      ]
     },
     "metadata": {},
     "output_type": "display_data"
    },
    {
     "ename": "",
     "evalue": "",
     "output_type": "error",
     "traceback": [
      "\u001b[1;31mThe Kernel crashed while executing code in the current cell or a previous cell. \n",
      "\u001b[1;31mPlease review the code in the cell(s) to identify a possible cause of the failure. \n",
      "\u001b[1;31mClick <a href='https://aka.ms/vscodeJupyterKernelCrash'>here</a> for more info. \n",
      "\u001b[1;31mView Jupyter <a href='command:jupyter.viewOutput'>log</a> for further details."
     ]
    }
   ],
   "source": [
    "%matplotlib inline\n",
    "import seaborn as sns\n",
    "import matplotlib.pyplot as plt\n",
    "import pandas as pd\n",
    "\n",
    "\n",
    "# Extract data into a list of dictionaries\n",
    "data = []\n",
    "for model_name, metrics in detect_metrics.items():\n",
    "    if \"YOLO11x\" in model_name:\n",
    "        continue\n",
    "    data.append({\n",
    "        \"Model\": model_name,\n",
    "        \"mAP (50-95)\": metrics[\"mAP (50-95)\"],\n",
    "        \"Inference Speed\": metrics[\"inference_speed\"]\n",
    "    })\n",
    "\n",
    "# Convert to a DataFrame\n",
    "df = pd.DataFrame(data)\n",
    "\n",
    "# Define training type colors\n",
    "training_type_colors = {\n",
    "    \"-full\": \"blue\",\n",
    "    \"-freeze-backbone\": \"green\",\n",
    "    \"-freeze-all\": \"red\"\n",
    "}\n",
    "\n",
    "# Define a mapping for encircled letters\n",
    "model_size_map = {\n",
    "    \"yolo11n\": \"N\",\n",
    "    \"yolo11s\": \"S\",\n",
    "    \"yolo11m\": \"M\",\n",
    "    \"yolo11l\": \"L\",\n",
    "}\n",
    "\n",
    "# Extract model size, training type, and model type (default vs segmentation) into separate columns\n",
    "df[\"Model Size\"] = df[\"Model\"].apply(lambda x: next(\n",
    "    (size for size in model_size_map.keys() if size.upper() in x.upper()), \"unknown\"\n",
    "))\n",
    "df[\"Training Type\"] = df[\"Model\"].apply(lambda x: next(\n",
    "    (typ for typ in training_type_colors.keys() if typ in x), \"unknown\"\n",
    "))\n",
    "df[\"Model Type\"] = df[\"Model\"].apply(lambda x: \"Segmentation\" if \"-seg\" in x.lower() else \"Default\")\n",
    "\n",
    "# Create the scatter plot\n",
    "plt.figure(figsize=(12, 8))\n",
    "\n",
    "# Plot each point with custom markers and training type colors\n",
    "for i in range(len(df)):\n",
    "    size = df[\"Model Size\"].iloc[i]\n",
    "    train_type = df[\"Training Type\"].iloc[i]\n",
    "    model_type = df[\"Model Type\"].iloc[i]\n",
    "    label = model_size_map.get(size, \"?\")  # Get the letter for the model size\n",
    "    color = training_type_colors.get(train_type, \"gray\")  # Get the color for the training type\n",
    "\n",
    "    # Choose a circle for segmentation and a square for default YOLO11 models\n",
    "    marker = \"o\" if model_type == \"Segmentation\" else \"s\"\n",
    "\n",
    "    # Draw the marker\n",
    "    plt.scatter(\n",
    "        df[\"Inference Speed\"].iloc[i],\n",
    "        df[\"mAP (50-95)\"].iloc[i],\n",
    "        color=color,\n",
    "        s=400,  # Size of the marker\n",
    "        edgecolor=\"black\",  # Marker border color\n",
    "        linewidth=1.5,\n",
    "        marker=marker,  # Circle or square\n",
    "        zorder=2\n",
    "    )\n",
    "\n",
    "    # Add the letter label inside the marker\n",
    "    plt.text(\n",
    "        df[\"Inference Speed\"].iloc[i],\n",
    "        df[\"mAP (50-95)\"].iloc[i],\n",
    "        label,  # The encircled letter\n",
    "        fontsize=10,\n",
    "        fontweight=\"bold\",\n",
    "        color=\"white\",\n",
    "        ha=\"center\",\n",
    "        va=\"center\",\n",
    "        zorder=3\n",
    "    )\n",
    "\n",
    "# Custom labels for training types\n",
    "def custom_training_label(train_type):\n",
    "    if train_type == \"-full\":\n",
    "        return \"End-to-End (Full)\"\n",
    "    elif train_type == \"-freeze-backbone\":\n",
    "        return \"Frozen Backbone\"\n",
    "    else:\n",
    "        return \"Detect-Only Fine-Tune\"\n",
    "\n",
    "\n",
    "# Add a legend for training types\n",
    "legend1_handles = [\n",
    "    plt.scatter([], [], color=color, s=200, label=f\"{custom_training_label(train_type)}\", edgecolor=\"black\")\n",
    "    for train_type, color in training_type_colors.items()\n",
    "]\n",
    "legend1 = plt.legend(\n",
    "    handles=legend1_handles, title=\"Training Types\", fontsize=10, title_fontsize=12, loc=\"upper left\",\n",
    "    bbox_to_anchor=(1.01, 1)  # Position outside the plot, to the right\n",
    ")\n",
    "plt.gca().add_artist(legend1)  # Add the first legend manually\n",
    "\n",
    "# Add a separate legend for model types\n",
    "legend2_handles = [\n",
    "    plt.scatter([], [], color=\"gray\", s=200, marker=\"s\", label=\"Default YOLO11\", edgecolor=\"black\"),\n",
    "    plt.scatter([], [], color=\"gray\", s=200, marker=\"o\", label=\"YOLO11 Segment\", edgecolor=\"black\")\n",
    "]\n",
    "plt.legend(\n",
    "    handles=legend2_handles, title=\"Model Types\", fontsize=10, title_fontsize=12, loc=\"upper left\",\n",
    "    bbox_to_anchor=(1.01, 0.7)  # Position outside the plot, below the first legend\n",
    ")\n",
    "\n",
    "# Add labels, title, and grid\n",
    "plt.title(\"Detection: mAP (50-95) vs Inference Speed\", fontsize=18, weight=\"bold\")\n",
    "plt.xlabel(\"Inference Speed (ms)\", fontsize=14)\n",
    "plt.ylabel(\"mAP (50-95)\", fontsize=14)\n",
    "plt.grid(axis=\"both\", linestyle=\"--\", alpha=0.7)\n",
    "\n",
    "# Clean up spines for aesthetics\n",
    "sns.despine()\n",
    "\n",
    "# Adjust layout to prevent clipping of the legends\n",
    "plt.subplots_adjust(right=0.8)  # Adjust the right side of the plot to make space for legends\n",
    "\n",
    "# Show the plot\n",
    "plt.tight_layout()\n",
    "plt.show()"
   ]
  },
  {
   "cell_type": "code",
   "execution_count": 54,
   "metadata": {},
   "outputs": [
    {
     "data": {
      "text/html": [
       "<style type=\"text/css\">\n",
       "#T_b6042 thead th {\n",
       "  font-weight: bold;\n",
       "}\n",
       "#T_b6042_row0_col0, #T_b6042_row0_col1, #T_b6042_row0_col2, #T_b6042_row1_col0, #T_b6042_row1_col1, #T_b6042_row1_col2, #T_b6042_row2_col0, #T_b6042_row2_col1, #T_b6042_row2_col2, #T_b6042_row3_col0, #T_b6042_row3_col1, #T_b6042_row3_col2, #T_b6042_row4_col0, #T_b6042_row4_col1, #T_b6042_row4_col2, #T_b6042_row5_col0, #T_b6042_row5_col1, #T_b6042_row5_col2, #T_b6042_row6_col0, #T_b6042_row6_col1, #T_b6042_row6_col2, #T_b6042_row7_col0, #T_b6042_row7_col1, #T_b6042_row7_col2, #T_b6042_row8_col0, #T_b6042_row8_col1, #T_b6042_row8_col2, #T_b6042_row9_col0, #T_b6042_row9_col1, #T_b6042_row9_col2, #T_b6042_row10_col0, #T_b6042_row10_col1, #T_b6042_row10_col2, #T_b6042_row11_col0, #T_b6042_row11_col1, #T_b6042_row11_col2, #T_b6042_row12_col0, #T_b6042_row12_col1, #T_b6042_row12_col2, #T_b6042_row13_col0, #T_b6042_row13_col1, #T_b6042_row13_col2, #T_b6042_row14_col0, #T_b6042_row14_col1, #T_b6042_row14_col2, #T_b6042_row15_col0, #T_b6042_row15_col1, #T_b6042_row15_col2, #T_b6042_row16_col0, #T_b6042_row16_col1, #T_b6042_row16_col2, #T_b6042_row17_col0, #T_b6042_row17_col1, #T_b6042_row17_col2, #T_b6042_row18_col0, #T_b6042_row18_col1, #T_b6042_row18_col2, #T_b6042_row19_col0, #T_b6042_row19_col1, #T_b6042_row19_col2, #T_b6042_row20_col0, #T_b6042_row20_col1, #T_b6042_row20_col2, #T_b6042_row21_col0, #T_b6042_row21_col1, #T_b6042_row21_col2, #T_b6042_row22_col0, #T_b6042_row22_col1, #T_b6042_row22_col2, #T_b6042_row23_col0, #T_b6042_row23_col1, #T_b6042_row23_col2 {\n",
       "  text-align: center;\n",
       "}\n",
       "</style>\n",
       "<table id=\"T_b6042\">\n",
       "  <caption>YOLO11 Models: mAP (50-95) and Inference Speed</caption>\n",
       "  <thead>\n",
       "    <tr>\n",
       "      <th class=\"blank level0\" >&nbsp;</th>\n",
       "      <th id=\"T_b6042_level0_col0\" class=\"col_heading level0 col0\" >Model</th>\n",
       "      <th id=\"T_b6042_level0_col1\" class=\"col_heading level0 col1\" >mAP (50-95)</th>\n",
       "      <th id=\"T_b6042_level0_col2\" class=\"col_heading level0 col2\" >Inference Speed</th>\n",
       "    </tr>\n",
       "  </thead>\n",
       "  <tbody>\n",
       "    <tr>\n",
       "      <th id=\"T_b6042_level0_row0\" class=\"row_heading level0 row0\" >19</th>\n",
       "      <td id=\"T_b6042_row0_col0\" class=\"data row0 col0\" >YOLO11m-seg-full</td>\n",
       "      <td id=\"T_b6042_row0_col1\" class=\"data row0 col1\" >0.91</td>\n",
       "      <td id=\"T_b6042_row0_col2\" class=\"data row0 col2\" >2.6</td>\n",
       "    </tr>\n",
       "    <tr>\n",
       "      <th id=\"T_b6042_level0_row1\" class=\"row_heading level0 row1\" >15</th>\n",
       "      <td id=\"T_b6042_row1_col0\" class=\"data row1 col0\" >YOLO11l-full</td>\n",
       "      <td id=\"T_b6042_row1_col1\" class=\"data row1 col1\" >0.91</td>\n",
       "      <td id=\"T_b6042_row1_col2\" class=\"data row1 col2\" >2.6</td>\n",
       "    </tr>\n",
       "    <tr>\n",
       "      <th id=\"T_b6042_level0_row2\" class=\"row_heading level0 row2\" >22</th>\n",
       "      <td id=\"T_b6042_row2_col0\" class=\"data row2 col0\" >YOLO11l-seg-full</td>\n",
       "      <td id=\"T_b6042_row2_col1\" class=\"data row2 col1\" >0.91</td>\n",
       "      <td id=\"T_b6042_row2_col2\" class=\"data row2 col2\" >3.3</td>\n",
       "    </tr>\n",
       "    <tr>\n",
       "      <th id=\"T_b6042_level0_row3\" class=\"row_heading level0 row3\" >4</th>\n",
       "      <td id=\"T_b6042_row3_col0\" class=\"data row3 col0\" >YOLO11m-full</td>\n",
       "      <td id=\"T_b6042_row3_col1\" class=\"data row3 col1\" >0.90</td>\n",
       "      <td id=\"T_b6042_row3_col2\" class=\"data row3 col2\" >2.1</td>\n",
       "    </tr>\n",
       "    <tr>\n",
       "      <th id=\"T_b6042_level0_row4\" class=\"row_heading level0 row4\" >21</th>\n",
       "      <td id=\"T_b6042_row4_col0\" class=\"data row4 col0\" >YOLO11l-freeze-backbone</td>\n",
       "      <td id=\"T_b6042_row4_col1\" class=\"data row4 col1\" >0.90</td>\n",
       "      <td id=\"T_b6042_row4_col2\" class=\"data row4 col2\" >2.7</td>\n",
       "    </tr>\n",
       "    <tr>\n",
       "      <th id=\"T_b6042_level0_row5\" class=\"row_heading level0 row5\" >10</th>\n",
       "      <td id=\"T_b6042_row5_col0\" class=\"data row5 col0\" >YOLO11l-seg-freeze-backbone</td>\n",
       "      <td id=\"T_b6042_row5_col1\" class=\"data row5 col1\" >0.89</td>\n",
       "      <td id=\"T_b6042_row5_col2\" class=\"data row5 col2\" >3.2</td>\n",
       "    </tr>\n",
       "    <tr>\n",
       "      <th id=\"T_b6042_level0_row6\" class=\"row_heading level0 row6\" >2</th>\n",
       "      <td id=\"T_b6042_row6_col0\" class=\"data row6 col0\" >YOLO11s-seg-full</td>\n",
       "      <td id=\"T_b6042_row6_col1\" class=\"data row6 col1\" >0.89</td>\n",
       "      <td id=\"T_b6042_row6_col2\" class=\"data row6 col2\" >1.5</td>\n",
       "    </tr>\n",
       "    <tr>\n",
       "      <th id=\"T_b6042_level0_row7\" class=\"row_heading level0 row7\" >1</th>\n",
       "      <td id=\"T_b6042_row7_col0\" class=\"data row7 col0\" >YOLO11m-freeze-backbone</td>\n",
       "      <td id=\"T_b6042_row7_col1\" class=\"data row7 col1\" >0.89</td>\n",
       "      <td id=\"T_b6042_row7_col2\" class=\"data row7 col2\" >2.1</td>\n",
       "    </tr>\n",
       "    <tr>\n",
       "      <th id=\"T_b6042_level0_row8\" class=\"row_heading level0 row8\" >20</th>\n",
       "      <td id=\"T_b6042_row8_col0\" class=\"data row8 col0\" >YOLO11m-seg-freeze-backbone</td>\n",
       "      <td id=\"T_b6042_row8_col1\" class=\"data row8 col1\" >0.89</td>\n",
       "      <td id=\"T_b6042_row8_col2\" class=\"data row8 col2\" >2.6</td>\n",
       "    </tr>\n",
       "    <tr>\n",
       "      <th id=\"T_b6042_level0_row9\" class=\"row_heading level0 row9\" >17</th>\n",
       "      <td id=\"T_b6042_row9_col0\" class=\"data row9 col0\" >YOLO11s-full</td>\n",
       "      <td id=\"T_b6042_row9_col1\" class=\"data row9 col1\" >0.89</td>\n",
       "      <td id=\"T_b6042_row9_col2\" class=\"data row9 col2\" >1.2</td>\n",
       "    </tr>\n",
       "    <tr>\n",
       "      <th id=\"T_b6042_level0_row10\" class=\"row_heading level0 row10\" >13</th>\n",
       "      <td id=\"T_b6042_row10_col0\" class=\"data row10 col0\" >YOLO11s-seg-freeze-backbone</td>\n",
       "      <td id=\"T_b6042_row10_col1\" class=\"data row10 col1\" >0.87</td>\n",
       "      <td id=\"T_b6042_row10_col2\" class=\"data row10 col2\" >1.3</td>\n",
       "    </tr>\n",
       "    <tr>\n",
       "      <th id=\"T_b6042_level0_row11\" class=\"row_heading level0 row11\" >12</th>\n",
       "      <td id=\"T_b6042_row11_col0\" class=\"data row11 col0\" >YOLO11n-seg-full</td>\n",
       "      <td id=\"T_b6042_row11_col1\" class=\"data row11 col1\" >0.87</td>\n",
       "      <td id=\"T_b6042_row11_col2\" class=\"data row11 col2\" >0.8</td>\n",
       "    </tr>\n",
       "    <tr>\n",
       "      <th id=\"T_b6042_level0_row12\" class=\"row_heading level0 row12\" >5</th>\n",
       "      <td id=\"T_b6042_row12_col0\" class=\"data row12 col0\" >YOLO11s-freeze-backbone</td>\n",
       "      <td id=\"T_b6042_row12_col1\" class=\"data row12 col1\" >0.86</td>\n",
       "      <td id=\"T_b6042_row12_col2\" class=\"data row12 col2\" >1.0</td>\n",
       "    </tr>\n",
       "    <tr>\n",
       "      <th id=\"T_b6042_level0_row13\" class=\"row_heading level0 row13\" >11</th>\n",
       "      <td id=\"T_b6042_row13_col0\" class=\"data row13 col0\" >YOLO11n-full</td>\n",
       "      <td id=\"T_b6042_row13_col1\" class=\"data row13 col1\" >0.86</td>\n",
       "      <td id=\"T_b6042_row13_col2\" class=\"data row13 col2\" >0.7</td>\n",
       "    </tr>\n",
       "    <tr>\n",
       "      <th id=\"T_b6042_level0_row14\" class=\"row_heading level0 row14\" >8</th>\n",
       "      <td id=\"T_b6042_row14_col0\" class=\"data row14 col0\" >YOLO11n-seg-freeze-backbone</td>\n",
       "      <td id=\"T_b6042_row14_col1\" class=\"data row14 col1\" >0.82</td>\n",
       "      <td id=\"T_b6042_row14_col2\" class=\"data row14 col2\" >1.1</td>\n",
       "    </tr>\n",
       "    <tr>\n",
       "      <th id=\"T_b6042_level0_row15\" class=\"row_heading level0 row15\" >23</th>\n",
       "      <td id=\"T_b6042_row15_col0\" class=\"data row15 col0\" >YOLO11n-freeze-backbone</td>\n",
       "      <td id=\"T_b6042_row15_col1\" class=\"data row15 col1\" >0.82</td>\n",
       "      <td id=\"T_b6042_row15_col2\" class=\"data row15 col2\" >0.7</td>\n",
       "    </tr>\n",
       "    <tr>\n",
       "      <th id=\"T_b6042_level0_row16\" class=\"row_heading level0 row16\" >6</th>\n",
       "      <td id=\"T_b6042_row16_col0\" class=\"data row16 col0\" >YOLO11l-seg-freeze-all</td>\n",
       "      <td id=\"T_b6042_row16_col1\" class=\"data row16 col1\" >0.72</td>\n",
       "      <td id=\"T_b6042_row16_col2\" class=\"data row16 col2\" >3.2</td>\n",
       "    </tr>\n",
       "    <tr>\n",
       "      <th id=\"T_b6042_level0_row17\" class=\"row_heading level0 row17\" >18</th>\n",
       "      <td id=\"T_b6042_row17_col0\" class=\"data row17 col0\" >YOLO11l-freeze-all</td>\n",
       "      <td id=\"T_b6042_row17_col1\" class=\"data row17 col1\" >0.71</td>\n",
       "      <td id=\"T_b6042_row17_col2\" class=\"data row17 col2\" >2.7</td>\n",
       "    </tr>\n",
       "    <tr>\n",
       "      <th id=\"T_b6042_level0_row18\" class=\"row_heading level0 row18\" >0</th>\n",
       "      <td id=\"T_b6042_row18_col0\" class=\"data row18 col0\" >YOLO11m-seg-freeze-all</td>\n",
       "      <td id=\"T_b6042_row18_col1\" class=\"data row18 col1\" >0.69</td>\n",
       "      <td id=\"T_b6042_row18_col2\" class=\"data row18 col2\" >2.6</td>\n",
       "    </tr>\n",
       "    <tr>\n",
       "      <th id=\"T_b6042_level0_row19\" class=\"row_heading level0 row19\" >7</th>\n",
       "      <td id=\"T_b6042_row19_col0\" class=\"data row19 col0\" >YOLO11m-freeze-all</td>\n",
       "      <td id=\"T_b6042_row19_col1\" class=\"data row19 col1\" >0.69</td>\n",
       "      <td id=\"T_b6042_row19_col2\" class=\"data row19 col2\" >2.1</td>\n",
       "    </tr>\n",
       "    <tr>\n",
       "      <th id=\"T_b6042_level0_row20\" class=\"row_heading level0 row20\" >9</th>\n",
       "      <td id=\"T_b6042_row20_col0\" class=\"data row20 col0\" >YOLO11s-freeze-all</td>\n",
       "      <td id=\"T_b6042_row20_col1\" class=\"data row20 col1\" >0.62</td>\n",
       "      <td id=\"T_b6042_row20_col2\" class=\"data row20 col2\" >1.0</td>\n",
       "    </tr>\n",
       "    <tr>\n",
       "      <th id=\"T_b6042_level0_row21\" class=\"row_heading level0 row21\" >3</th>\n",
       "      <td id=\"T_b6042_row21_col0\" class=\"data row21 col0\" >YOLO11s-seg-freeze-all</td>\n",
       "      <td id=\"T_b6042_row21_col1\" class=\"data row21 col1\" >0.62</td>\n",
       "      <td id=\"T_b6042_row21_col2\" class=\"data row21 col2\" >1.3</td>\n",
       "    </tr>\n",
       "    <tr>\n",
       "      <th id=\"T_b6042_level0_row22\" class=\"row_heading level0 row22\" >14</th>\n",
       "      <td id=\"T_b6042_row22_col0\" class=\"data row22 col0\" >YOLO11n-freeze-all</td>\n",
       "      <td id=\"T_b6042_row22_col1\" class=\"data row22 col1\" >0.52</td>\n",
       "      <td id=\"T_b6042_row22_col2\" class=\"data row22 col2\" >0.7</td>\n",
       "    </tr>\n",
       "    <tr>\n",
       "      <th id=\"T_b6042_level0_row23\" class=\"row_heading level0 row23\" >16</th>\n",
       "      <td id=\"T_b6042_row23_col0\" class=\"data row23 col0\" >YOLO11n-seg-freeze-all</td>\n",
       "      <td id=\"T_b6042_row23_col1\" class=\"data row23 col1\" >0.52</td>\n",
       "      <td id=\"T_b6042_row23_col2\" class=\"data row23 col2\" >0.9</td>\n",
       "    </tr>\n",
       "  </tbody>\n",
       "</table>\n"
      ],
      "text/plain": [
       "<pandas.io.formats.style.Styler at 0x7f154c73cb30>"
      ]
     },
     "execution_count": 54,
     "metadata": {},
     "output_type": "execute_result"
    }
   ],
   "source": [
    "# Sort the DataFrame by mAP and inference speed for better readability\n",
    "df_sorted = df.sort_values(by=[\"mAP (50-95)\", \"Inference Speed\"], ascending=[False, True])\n",
    "\n",
    "# Display the DataFrame as a styled table\n",
    "styled_table = df_sorted.style.set_table_styles(\n",
    "    [{\"selector\": \"thead th\", \"props\": [(\"font-weight\", \"bold\")]}]\n",
    ").set_properties(**{\"text-align\": \"center\"}) \\\n",
    " .set_caption(\"YOLO11 Models: mAP (50-95) and Inference Speed\") \\\n",
    " .format({\"mAP (50-95)\": \"{:.2f}\", \"Inference Speed\": \"{:.1f}\"})\n",
    "\n",
    "# Save to HTML or display\n",
    "styled_table.to_html(\"metrics/detect_metrics_table.html\")  # Save to an HTML file\n",
    "styled_table  # Display in a notebook environment\n"
   ]
  },
  {
   "cell_type": "code",
   "execution_count": 83,
   "metadata": {},
   "outputs": [
    {
     "data": {
      "image/png": "[encoded data removed]",
      "text/plain": [
       "<Figure size 1200x800 with 1 Axes>"
      ]
     },
     "metadata": {},
     "output_type": "display_data"
    }
   ],
   "source": [
    "import seaborn as sns\n",
    "import matplotlib.pyplot as plt\n",
    "import pandas as pd\n",
    "\n",
    "\n",
    "# Extract data into a list of dictionaries\n",
    "data = []\n",
    "for model_name, metrics in segment_metrics.items():\n",
    "    data.append({\n",
    "        \"Model\": model_name,\n",
    "        \"mAP (50-95)\": metrics[\"mAP (50-95)\"],\n",
    "        \"Inference Speed\": metrics[\"inference_speed\"]\n",
    "    })\n",
    "\n",
    "# Convert to a DataFrame\n",
    "df = pd.DataFrame(data)\n",
    "\n",
    "# Define training type colors\n",
    "training_type_colors = {\n",
    "    \"-full\": \"blue\",\n",
    "    \"-freeze-backbone\": \"green\",\n",
    "    \"-freeze-all\": \"red\"\n",
    "}\n",
    "\n",
    "# Define a mapping for encircled letters\n",
    "model_size_map = {\n",
    "    \"yolo11n\": \"N\",\n",
    "    \"yolo11s\": \"S\",\n",
    "    \"yolo11m\": \"M\",\n",
    "    \"yolo11l\": \"L\"\n",
    "}\n",
    "\n",
    "# Extract model size and training type into separate columns\n",
    "df[\"Model Size\"] = df[\"Model\"].apply(lambda x: next(\n",
    "    (size for size in model_size_map.keys() if size.upper() in x.upper()), \"unknown\"\n",
    "))\n",
    "df[\"Training Type\"] = df[\"Model\"].apply(lambda x: next(\n",
    "    (typ for typ in training_type_colors.keys() if typ in x), \"unknown\"\n",
    "))\n",
    "\n",
    "# Create the scatter plot\n",
    "plt.figure(figsize=(12, 8))\n",
    "\n",
    "# Plot each point with custom encircled letters and training type colors\n",
    "for i in range(len(df)):\n",
    "    size = df[\"Model Size\"].iloc[i]\n",
    "    train_type = df[\"Training Type\"].iloc[i]\n",
    "    label = model_size_map.get(size, \"?\")  # Get the letter for the model size\n",
    "    color = training_type_colors.get(train_type, \"gray\")  # Get the color for the training type\n",
    "\n",
    "    # Draw the encircled letter\n",
    "    plt.scatter(\n",
    "        df[\"Inference Speed\"].iloc[i],\n",
    "        df[\"mAP (50-95)\"].iloc[i],\n",
    "        color=color,\n",
    "        s=400,  # Size of the circle\n",
    "        edgecolor=\"black\",  # Circle border color\n",
    "        linewidth=1.5,\n",
    "        zorder=2\n",
    "    )\n",
    "    plt.text(\n",
    "        df[\"Inference Speed\"].iloc[i],\n",
    "        df[\"mAP (50-95)\"].iloc[i],\n",
    "        label,  # The encircled letter\n",
    "        fontsize=10,\n",
    "        fontweight=\"bold\",\n",
    "        color=\"white\",\n",
    "        ha=\"center\",\n",
    "        va=\"center\",\n",
    "        zorder=3\n",
    "    )\n",
    "\n",
    "# Add a legend for training type\n",
    "for train_type, color in training_type_colors.items():\n",
    "    if train_type == \"-full\":\n",
    "        train_type = \"End-to-End (Full)\"\n",
    "    elif train_type == \"-freeze-backbone\":\n",
    "        train_type = \"Frozen Backbone\"\n",
    "    else:\n",
    "        train_type = \"Detect-Only Fine-Tune\"\n",
    "    plt.scatter([], [], color=color, s=200, label=f\"{train_type}\", edgecolor=\"black\")\n",
    "\n",
    "# Add labels, title, and grid\n",
    "plt.title(\"Segmentation: mAP (50-95) vs Inference Speed\", fontsize=18, weight=\"bold\")\n",
    "plt.xlabel(\"Inference Speed (ms)\", fontsize=14)\n",
    "plt.ylabel(\"mAP (50-95)\", fontsize=14)\n",
    "plt.grid(axis=\"both\", linestyle=\"--\", alpha=0.7)\n",
    "\n",
    "# Add legend\n",
    "plt.legend(title=\"Training Types\", fontsize=10, title_fontsize=12, loc=\"best\", bbox_to_anchor=(1, 1))\n",
    "\n",
    "# Clean up spines for aesthetics\n",
    "sns.despine()\n",
    "\n",
    "# Show the plot\n",
    "plt.tight_layout()\n",
    "plt.show()"
   ]
  },
  {
   "cell_type": "code",
   "execution_count": null,
   "metadata": {},
   "outputs": [
    {
     "data": {
      "text/html": [
       "<style type=\"text/css\">\n",
       "#T_85d71 thead th {\n",
       "  font-weight: bold;\n",
       "}\n",
       "#T_85d71_row0_col0, #T_85d71_row0_col1, #T_85d71_row0_col2, #T_85d71_row1_col0, #T_85d71_row1_col1, #T_85d71_row1_col2, #T_85d71_row2_col0, #T_85d71_row2_col1, #T_85d71_row2_col2, #T_85d71_row3_col0, #T_85d71_row3_col1, #T_85d71_row3_col2, #T_85d71_row4_col0, #T_85d71_row4_col1, #T_85d71_row4_col2, #T_85d71_row5_col0, #T_85d71_row5_col1, #T_85d71_row5_col2, #T_85d71_row6_col0, #T_85d71_row6_col1, #T_85d71_row6_col2, #T_85d71_row7_col0, #T_85d71_row7_col1, #T_85d71_row7_col2, #T_85d71_row8_col0, #T_85d71_row8_col1, #T_85d71_row8_col2, #T_85d71_row9_col0, #T_85d71_row9_col1, #T_85d71_row9_col2, #T_85d71_row10_col0, #T_85d71_row10_col1, #T_85d71_row10_col2, #T_85d71_row11_col0, #T_85d71_row11_col1, #T_85d71_row11_col2 {\n",
       "  text-align: center;\n",
       "}\n",
       "</style>\n",
       "<table id=\"T_85d71\">\n",
       "  <caption>YOLO11 Models: mAP (50-95) and Inference Speed</caption>\n",
       "  <thead>\n",
       "    <tr>\n",
       "      <th class=\"blank level0\" >&nbsp;</th>\n",
       "      <th id=\"T_85d71_level0_col0\" class=\"col_heading level0 col0\" >Model</th>\n",
       "      <th id=\"T_85d71_level0_col1\" class=\"col_heading level0 col1\" >mAP (50-95)</th>\n",
       "      <th id=\"T_85d71_level0_col2\" class=\"col_heading level0 col2\" >Inference Speed</th>\n",
       "    </tr>\n",
       "  </thead>\n",
       "  <tbody>\n",
       "    <tr>\n",
       "      <th id=\"T_85d71_level0_row0\" class=\"row_heading level0 row0\" >11</th>\n",
       "      <td id=\"T_85d71_row0_col0\" class=\"data row0 col0\" >YOLO11l-seg-full</td>\n",
       "      <td id=\"T_85d71_row0_col1\" class=\"data row0 col1\" >0.91</td>\n",
       "      <td id=\"T_85d71_row0_col2\" class=\"data row0 col2\" >3.3</td>\n",
       "    </tr>\n",
       "    <tr>\n",
       "      <th id=\"T_85d71_level0_row1\" class=\"row_heading level0 row1\" >9</th>\n",
       "      <td id=\"T_85d71_row1_col0\" class=\"data row1 col0\" >YOLO11m-seg-full</td>\n",
       "      <td id=\"T_85d71_row1_col1\" class=\"data row1 col1\" >0.91</td>\n",
       "      <td id=\"T_85d71_row1_col2\" class=\"data row1 col2\" >2.6</td>\n",
       "    </tr>\n",
       "    <tr>\n",
       "      <th id=\"T_85d71_level0_row2\" class=\"row_heading level0 row2\" >5</th>\n",
       "      <td id=\"T_85d71_row2_col0\" class=\"data row2 col0\" >YOLO11l-seg-freeze-backbone</td>\n",
       "      <td id=\"T_85d71_row2_col1\" class=\"data row2 col1\" >0.89</td>\n",
       "      <td id=\"T_85d71_row2_col2\" class=\"data row2 col2\" >3.2</td>\n",
       "    </tr>\n",
       "    <tr>\n",
       "      <th id=\"T_85d71_level0_row3\" class=\"row_heading level0 row3\" >1</th>\n",
       "      <td id=\"T_85d71_row3_col0\" class=\"data row3 col0\" >YOLO11s-seg-full</td>\n",
       "      <td id=\"T_85d71_row3_col1\" class=\"data row3 col1\" >0.89</td>\n",
       "      <td id=\"T_85d71_row3_col2\" class=\"data row3 col2\" >1.3</td>\n",
       "    </tr>\n",
       "    <tr>\n",
       "      <th id=\"T_85d71_level0_row4\" class=\"row_heading level0 row4\" >10</th>\n",
       "      <td id=\"T_85d71_row4_col0\" class=\"data row4 col0\" >YOLO11m-seg-freeze-backbone</td>\n",
       "      <td id=\"T_85d71_row4_col1\" class=\"data row4 col1\" >0.89</td>\n",
       "      <td id=\"T_85d71_row4_col2\" class=\"data row4 col2\" >2.6</td>\n",
       "    </tr>\n",
       "    <tr>\n",
       "      <th id=\"T_85d71_level0_row5\" class=\"row_heading level0 row5\" >7</th>\n",
       "      <td id=\"T_85d71_row5_col0\" class=\"data row5 col0\" >YOLO11s-seg-freeze-backbone</td>\n",
       "      <td id=\"T_85d71_row5_col1\" class=\"data row5 col1\" >0.87</td>\n",
       "      <td id=\"T_85d71_row5_col2\" class=\"data row5 col2\" >1.3</td>\n",
       "    </tr>\n",
       "    <tr>\n",
       "      <th id=\"T_85d71_level0_row6\" class=\"row_heading level0 row6\" >6</th>\n",
       "      <td id=\"T_85d71_row6_col0\" class=\"data row6 col0\" >YOLO11n-seg-full</td>\n",
       "      <td id=\"T_85d71_row6_col1\" class=\"data row6 col1\" >0.87</td>\n",
       "      <td id=\"T_85d71_row6_col2\" class=\"data row6 col2\" >0.9</td>\n",
       "    </tr>\n",
       "    <tr>\n",
       "      <th id=\"T_85d71_level0_row7\" class=\"row_heading level0 row7\" >4</th>\n",
       "      <td id=\"T_85d71_row7_col0\" class=\"data row7 col0\" >YOLO11n-seg-freeze-backbone</td>\n",
       "      <td id=\"T_85d71_row7_col1\" class=\"data row7 col1\" >0.82</td>\n",
       "      <td id=\"T_85d71_row7_col2\" class=\"data row7 col2\" >0.9</td>\n",
       "    </tr>\n",
       "    <tr>\n",
       "      <th id=\"T_85d71_level0_row8\" class=\"row_heading level0 row8\" >3</th>\n",
       "      <td id=\"T_85d71_row8_col0\" class=\"data row8 col0\" >YOLO11l-seg-freeze-all</td>\n",
       "      <td id=\"T_85d71_row8_col1\" class=\"data row8 col1\" >0.72</td>\n",
       "      <td id=\"T_85d71_row8_col2\" class=\"data row8 col2\" >3.2</td>\n",
       "    </tr>\n",
       "    <tr>\n",
       "      <th id=\"T_85d71_level0_row9\" class=\"row_heading level0 row9\" >0</th>\n",
       "      <td id=\"T_85d71_row9_col0\" class=\"data row9 col0\" >YOLO11m-seg-freeze-all</td>\n",
       "      <td id=\"T_85d71_row9_col1\" class=\"data row9 col1\" >0.69</td>\n",
       "      <td id=\"T_85d71_row9_col2\" class=\"data row9 col2\" >2.6</td>\n",
       "    </tr>\n",
       "    <tr>\n",
       "      <th id=\"T_85d71_level0_row10\" class=\"row_heading level0 row10\" >2</th>\n",
       "      <td id=\"T_85d71_row10_col0\" class=\"data row10 col0\" >YOLO11s-seg-freeze-all</td>\n",
       "      <td id=\"T_85d71_row10_col1\" class=\"data row10 col1\" >0.62</td>\n",
       "      <td id=\"T_85d71_row10_col2\" class=\"data row10 col2\" >1.2</td>\n",
       "    </tr>\n",
       "    <tr>\n",
       "      <th id=\"T_85d71_level0_row11\" class=\"row_heading level0 row11\" >8</th>\n",
       "      <td id=\"T_85d71_row11_col0\" class=\"data row11 col0\" >YOLO11n-seg-freeze-all</td>\n",
       "      <td id=\"T_85d71_row11_col1\" class=\"data row11 col1\" >0.52</td>\n",
       "      <td id=\"T_85d71_row11_col2\" class=\"data row11 col2\" >0.9</td>\n",
       "    </tr>\n",
       "  </tbody>\n",
       "</table>\n"
      ],
      "text/plain": [
       "<pandas.io.formats.style.Styler at 0x7f1720497500>"
      ]
     },
     "execution_count": 85,
     "metadata": {},
     "output_type": "execute_result"
    },
    {
     "ename": "",
     "evalue": "",
     "output_type": "error",
     "traceback": [
      "\u001b[1;31mThe Kernel crashed while executing code in the current cell or a previous cell. \n",
      "\u001b[1;31mPlease review the code in the cell(s) to identify a possible cause of the failure. \n",
      "\u001b[1;31mClick <a href='https://aka.ms/vscodeJupyterKernelCrash'>here</a> for more info. \n",
      "\u001b[1;31mView Jupyter <a href='command:jupyter.viewOutput'>log</a> for further details."
     ]
    }
   ],
   "source": [
    "# Sort the DataFrame by mAP and inference speed for better readability\n",
    "df_sorted = df.sort_values(by=[\"mAP (50-95)\", \"Inference Speed\"], ascending=[False, True])\n",
    "\n",
    "# Drop the \"Model Size\" and \"Training Type\" columns\n",
    "df_sorted = df_sorted.drop(columns=[\"Model Size\", \"Training Type\"])\n",
    "\n",
    "# Display the DataFrame as a styled table\n",
    "styled_table = df_sorted.style.set_table_styles(\n",
    "    [{\"selector\": \"thead th\", \"props\": [(\"font-weight\", \"bold\")]}]\n",
    ").set_properties(**{\"text-align\": \"center\"}) \\\n",
    " .set_caption(\"YOLO11 Models: mAP (50-95) and Inference Speed\") \\\n",
    " .format({\"mAP (50-95)\": \"{:.2f}\", \"Inference Speed\": \"{:.1f}\"})\n",
    "\n",
    "# Save to HTML or display\n",
    "styled_table.to_html(\"metrics/segment_metrics_table.html\")  # Save to an HTML file\n",
    "styled_table  # Display in a notebook environment\n"
   ]
  }
 ],
 "metadata": {
  "kernelspec": {
   "display_name": "ai231-venv",
   "language": "python",
   "name": "python3"
  },
  "language_info": {
   "codemirror_mode": {
    "name": "ipython",
    "version": 3
   },
   "file_extension": ".py",
   "mimetype": "text/x-python",
   "name": "python",
   "nbconvert_exporter": "python",
   "pygments_lexer": "ipython3",
   "version": "3.12.7"
  }
 },
 "nbformat": 4,
 "nbformat_minor": 2
}
